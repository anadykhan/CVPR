{
  "nbformat": 4,
  "nbformat_minor": 0,
  "metadata": {
    "colab": {
      "provenance": []
    },
    "kernelspec": {
      "name": "python3",
      "display_name": "Python 3"
    },
    "language_info": {
      "name": "python"
    }
  },
  "cells": [
    {
      "cell_type": "code",
      "execution_count": 12,
      "metadata": {
        "id": "NLETf7vO8EXw"
      },
      "outputs": [],
      "source": [
        "import pandas as pd\n",
        "import cv2 as cv\n",
        "from google.colab import files\n",
        "import numpy as np\n",
        "import os as o\n",
        "from tqdm import tqdm"
      ]
    },
    {
      "cell_type": "code",
      "source": [
        "images = []\n",
        "labels = []\n",
        "\n"
      ],
      "metadata": {
        "id": "KEFolKqDETGo"
      },
      "execution_count": 11,
      "outputs": []
    },
    {
      "cell_type": "code",
      "source": [
        "for output in os.listdir(test_folder):\n",
        "  for name in tqdm(os.listdir(os.path.join(test_folder,output))):\n",
        "    img = cv2.imread(os.path.join(test_folder,output,name))\n",
        "    if img is not None:\n",
        "      img = cv2.cvtColor(img, cv2.COLOR_BGR2RGB)\n",
        "      images.append(img)\n",
        "      labels.append(output)\n",
        "      return np.array(images), np.array(labels)"
      ],
      "metadata": {
        "colab": {
          "base_uri": "https://localhost:8080/",
          "height": 141
        },
        "id": "v3XfpHzOFvJv",
        "outputId": "07355e3d-ba4e-459a-de52-e9789fdafc9c"
      },
      "execution_count": 23,
      "outputs": [
        {
          "output_type": "error",
          "ename": "SyntaxError",
          "evalue": "ignored",
          "traceback": [
            "\u001b[0;36m  File \u001b[0;32m\"<ipython-input-23-48a6f10d61fe>\"\u001b[0;36m, line \u001b[0;32m8\u001b[0m\n\u001b[0;31m    return np.array(images), np.array(labels)\u001b[0m\n\u001b[0m    ^\u001b[0m\n\u001b[0;31mSyntaxError\u001b[0m\u001b[0;31m:\u001b[0m 'return' outside function\n"
          ]
        }
      ]
    }
  ]
}