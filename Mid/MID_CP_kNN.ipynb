{
  "cells": [
    {
      "cell_type": "markdown",
      "metadata": {
        "id": "llByjapnGU4y"
      },
      "source": [
        "# Importing the necessary libraries and modules for the task\n",
        "1. Numpy for calculating numeraical arrays and values\n",
        "2. Matplotlib for plotting\n",
        "3. Scikit-learn for training models and evaluating accuracy scores"
      ]
    },
    {
      "cell_type": "code",
      "execution_count": 1,
      "metadata": {
        "id": "SAajCxwxA5hA"
      },
      "outputs": [],
      "source": [
        "import numpy as np\n",
        "import matplotlib.pyplot as plt\n",
        "from sklearn.model_selection import cross_val_score, StratifiedKFold\n",
        "from sklearn.pipeline import make_pipeline\n",
        "from sklearn.decomposition import PCA\n",
        "from sklearn.metrics import accuracy_score\n",
        "from sklearn.neighbors import KNeighborsClassifier\n",
        "from sklearn.preprocessing import StandardScaler\n",
        "from sklearn.datasets import fetch_openml"
      ]
    },
    {
      "cell_type": "markdown",
      "metadata": {
        "id": "WcI5vdgzHHK4"
      },
      "source": [
        "#Importing the dataset\n",
        "1. Used OpenML for loading the CIFAR-10 data\n",
        "2. Loaded the data in X and the labels in y"
      ]
    },
    {
      "cell_type": "code",
      "execution_count": 2,
      "metadata": {
        "colab": {
          "base_uri": "https://localhost:8080/"
        },
        "id": "VOUOQfLCHxBg",
        "outputId": "eb483ffa-322a-4ffb-8e10-891e91bb571e"
      },
      "outputs": [
        {
          "output_type": "stream",
          "name": "stderr",
          "text": [
            "/usr/local/lib/python3.10/dist-packages/sklearn/datasets/_openml.py:968: FutureWarning: The default value of `parser` will change from `'liac-arff'` to `'auto'` in 1.4. You can set `parser='auto'` to silence this warning. Therefore, an `ImportError` will be raised from 1.4 if the dataset is dense and pandas is not installed. Note that the pandas parser may return different data types. See the Notes Section in fetch_openml's API doc for details.\n",
            "  warn(\n"
          ]
        }
      ],
      "source": [
        "cifar = fetch_openml('CIFAR_10', version=1)\n",
        "X, y = cifar.data, cifar.target"
      ]
    },
    {
      "cell_type": "markdown",
      "metadata": {
        "id": "-yKlolgAKjS5"
      },
      "source": [
        "#Converting images into grayscale using the grayscale conversion coefficients\n"
      ]
    },
    {
      "cell_type": "code",
      "execution_count": 3,
      "metadata": {
        "id": "OqHCY9P4K3Vg"
      },
      "outputs": [],
      "source": [
        "import pandas as pd\n",
        "\n",
        "X = X.astype('float32')\n",
        "X_array = X.values\n",
        "grayscale_coefficients = np.array([0.2989, 0.5870, 0.1140])\n",
        "X_reshaped = X_array.reshape(X_array.shape[0], -1, 3)\n",
        "X_gray = np.dot(X_reshaped, grayscale_coefficients)\n",
        "X_gray = X_gray.reshape(X_gray.shape[0], 32, 32).astype('float32')"
      ]
    },
    {
      "cell_type": "markdown",
      "metadata": {
        "id": "HLG69KlXM_n7"
      },
      "source": [
        "#Splitting the data and the target into train and test segments (10000)\n",
        "1. There will be 10,000 data for training\n",
        "2. The remaining data will be on testing purposes"
      ]
    },
    {
      "cell_type": "code",
      "execution_count": 4,
      "metadata": {
        "id": "8ipLsfMsNM8l"
      },
      "outputs": [],
      "source": [
        "X_train, y_train = X_gray[:10000], y[:10000]\n",
        "X_test, y_test = X_gray[10000:12000], y[10000:12000]"
      ]
    },
    {
      "cell_type": "markdown",
      "metadata": {
        "id": "MSiBf3pAOo8a"
      },
      "source": [
        "#Defining a function for KNN\n",
        "1. k is hyperparameter\n",
        "2. KNN classifier is from Scikit-learn\n",
        "3. X_train is reshaped because KNN classifier only accepts 2D representation of 1D flattened image\n",
        "4. Split is 5 means 5 folds\n",
        "5. Calculating the mean for each hyperparameter for each distance metric"
      ]
    },
    {
      "cell_type": "code",
      "execution_count": 5,
      "metadata": {
        "id": "z6MEWzUTOr-V"
      },
      "outputs": [],
      "source": [
        "def knn_accuracy(k, distance_metric):\n",
        "    model = KNeighborsClassifier(n_neighbors=k, metric=distance_metric)\n",
        "    return cross_val_score(model, X_train.reshape(X_train.shape[0], -1), y_train, cv=StratifiedKFold(n_splits=5), scoring='accuracy').mean()"
      ]
    },
    {
      "cell_type": "markdown",
      "metadata": {
        "id": "rpLu2telStvY"
      },
      "source": [
        "#Declaring the values for the knn_accuracy function"
      ]
    },
    {
      "cell_type": "code",
      "execution_count": 6,
      "metadata": {
        "id": "WfsKKao6SrlV"
      },
      "outputs": [],
      "source": [
        "k_values = list(range(1, 11))\n",
        "distance_metrics = ['manhattan', 'euclidean']"
      ]
    },
    {
      "cell_type": "markdown",
      "metadata": {
        "id": "8KTpPEnqTj9b"
      },
      "source": [
        "#Dictionary comprehension, training model for finding accuracy"
      ]
    },
    {
      "cell_type": "code",
      "execution_count": 7,
      "metadata": {
        "id": "T2DNafJZTqUm"
      },
      "outputs": [],
      "source": [
        "accuracies = {metric: [knn_accuracy(k, metric) for k in k_values] for metric in distance_metrics}"
      ]
    },
    {
      "cell_type": "markdown",
      "metadata": {
        "id": "laf41YPUcqHn"
      },
      "source": [
        "#Plotting the accuracy graph"
      ]
    },
    {
      "cell_type": "code",
      "execution_count": 8,
      "metadata": {
        "colab": {
          "base_uri": "https://localhost:8080/",
          "height": 556
        },
        "id": "w27Gi7A7cs9n",
        "outputId": "b5ab8ef4-b001-4937-e818-9c4e5be11723"
      },
      "outputs": [
        {
          "output_type": "display_data",
          "data": {
            "text/plain": [
              "<Figure size 1000x600 with 1 Axes>"
            ],
            "image/png": "[encoded data removed]"
          },
          "metadata": {}
        }
      ],
      "source": [
        "plt.figure(figsize=(10, 6))\n",
        "for metric in distance_metrics:\n",
        "    plt.plot(k_values, accuracies[metric], label=f'{metric.capitalize()} Distance')\n",
        "\n",
        "plt.title('Accuracy vs. K(Number of Neighbors)')\n",
        "plt.xlabel('K (Number of Neighbors)')\n",
        "plt.ylabel('Accuracy')\n",
        "plt.legend()\n",
        "plt.grid()\n",
        "plt.show()"
      ]
    },
    {
      "cell_type": "markdown",
      "metadata": {
        "id": "mYsAFflPdwZc"
      },
      "source": [
        "#Finding the best K value for the model"
      ]
    },
    {
      "cell_type": "code",
      "execution_count": 9,
      "metadata": {
        "colab": {
          "base_uri": "https://localhost:8080/"
        },
        "id": "Kp0QXgZEdz_v",
        "outputId": "5de8fd3d-7dda-4e40-8b51-76566a6bf14f"
      },
      "outputs": [
        {
          "output_type": "stream",
          "name": "stdout",
          "text": [
            "Best K values:\n",
            "Manhattan Distance: K = 10\n",
            "Euclidean Distance: K = 9\n"
          ]
        }
      ],
      "source": [
        "best_k_values = {metric: k_values[np.argmax(accuracies[metric])] for metric in distance_metrics}\n",
        "\n",
        "print(\"Best K values:\")\n",
        "for metric in distance_metrics:\n",
        "    print(f\"{metric.capitalize()} Distance: K = {best_k_values[metric]}\")\n"
      ]
    },
    {
      "cell_type": "markdown",
      "metadata": {
        "id": "ZTLt1rklfEX4"
      },
      "source": [
        "#Comparison of average accuracy"
      ]
    },
    {
      "cell_type": "code",
      "execution_count": 10,
      "metadata": {
        "colab": {
          "base_uri": "https://localhost:8080/"
        },
        "id": "nm0Bzsu7fLMc",
        "outputId": "91a19fdf-a0bd-439e-98ea-b406bd595c61"
      },
      "outputs": [
        {
          "output_type": "stream",
          "name": "stdout",
          "text": [
            "Manhattan distance 0.31465 outperforms Euclidean distance 0.29274000000000006.\n"
          ]
        }
      ],
      "source": [
        "if accuracies['manhattan'] > accuracies['euclidean']:\n",
        "    print(f\"Manhattan distance {sum(accuracies['manhattan']) / len(accuracies['manhattan'])} outperforms Euclidean distance {sum(accuracies['euclidean']) / len(accuracies['euclidean'])}.\")\n",
        "else:\n",
        "    print(f\"Euclidean distance {sum(accuracies['euclidean']) / len(accuracies['euclidean'])} outperforms Manhattan distance {sum(accuracies['manhattan']) / len(accuracies['manhattan'])}.\")"
      ]
    },
    {
      "cell_type": "markdown",
      "metadata": {
        "id": "oTxJPnARitw_"
      },
      "source": [
        "#Defining required valriables for the testing"
      ]
    },
    {
      "cell_type": "code",
      "execution_count": 11,
      "metadata": {
        "id": "y2ABm6SticIb"
      },
      "outputs": [],
      "source": [
        "best_k_manhattan = best_k_values['manhattan']\n",
        "best_k_euclidean = best_k_values['euclidean']\n",
        "distance_metric_manhattan = 'manhattan'\n",
        "distance_metric_euclidean = 'euclidean'"
      ]
    },
    {
      "cell_type": "markdown",
      "metadata": {
        "id": "6Cki5UaKi4pu"
      },
      "source": [
        "#Creating KNN models with the best hyperparameters"
      ]
    },
    {
      "cell_type": "code",
      "execution_count": 12,
      "metadata": {
        "id": "Vwtgs5YOi-l6"
      },
      "outputs": [],
      "source": [
        "knn_model_manhattan = KNeighborsClassifier(n_neighbors=best_k_manhattan, metric=distance_metric_manhattan)\n",
        "knn_model_euclidean = KNeighborsClassifier(n_neighbors=best_k_euclidean, metric=distance_metric_euclidean)"
      ]
    },
    {
      "cell_type": "markdown",
      "metadata": {
        "id": "5qv5WGSQjJ7Q"
      },
      "source": [
        "#Fitting the data model with the initialized parameters"
      ]
    },
    {
      "cell_type": "code",
      "execution_count": 13,
      "metadata": {
        "colab": {
          "base_uri": "https://localhost:8080/",
          "height": 75
        },
        "id": "mWOuTzC5jR80",
        "outputId": "b89a1ad8-1f3a-4087-c40e-41e5f39afc1f"
      },
      "outputs": [
        {
          "output_type": "execute_result",
          "data": {
            "text/plain": [
              "KNeighborsClassifier(metric='euclidean', n_neighbors=9)"
            ],
            "text/html": [
              "<style>#sk-container-id-1 {color: black;background-color: white;}#sk-container-id-1 pre{padding: 0;}#sk-container-id-1 div.sk-toggleable {background-color: white;}#sk-container-id-1 label.sk-toggleable__label {cursor: pointer;display: block;width: 100%;margin-bottom: 0;padding: 0.3em;box-sizing: border-box;text-align: center;}#sk-container-id-1 label.sk-toggleable__label-arrow:before {content: \"▸\";float: left;margin-right: 0.25em;color: #696969;}#sk-container-id-1 label.sk-toggleable__label-arrow:hover:before {color: black;}#sk-container-id-1 div.sk-estimator:hover label.sk-toggleable__label-arrow:before {color: black;}#sk-container-id-1 div.sk-toggleable__content {max-height: 0;max-width: 0;overflow: hidden;text-align: left;background-color: #f0f8ff;}#sk-container-id-1 div.sk-toggleable__content pre {margin: 0.2em;color: black;border-radius: 0.25em;background-color: #f0f8ff;}#sk-container-id-1 input.sk-toggleable__control:checked~div.sk-toggleable__content {max-height: 200px;max-width: 100%;overflow: auto;}#sk-container-id-1 input.sk-toggleable__control:checked~label.sk-toggleable__label-arrow:before {content: \"▾\";}#sk-container-id-1 div.sk-estimator input.sk-toggleable__control:checked~label.sk-toggleable__label {background-color: #d4ebff;}#sk-container-id-1 div.sk-label input.sk-toggleable__control:checked~label.sk-toggleable__label {background-color: #d4ebff;}#sk-container-id-1 input.sk-hidden--visually {border: 0;clip: rect(1px 1px 1px 1px);clip: rect(1px, 1px, 1px, 1px);height: 1px;margin: -1px;overflow: hidden;padding: 0;position: absolute;width: 1px;}#sk-container-id-1 div.sk-estimator {font-family: monospace;background-color: #f0f8ff;border: 1px dotted black;border-radius: 0.25em;box-sizing: border-box;margin-bottom: 0.5em;}#sk-container-id-1 div.sk-estimator:hover {background-color: #d4ebff;}#sk-container-id-1 div.sk-parallel-item::after {content: \"\";width: 100%;border-bottom: 1px solid gray;flex-grow: 1;}#sk-container-id-1 div.sk-label:hover label.sk-toggleable__label {background-color: #d4ebff;}#sk-container-id-1 div.sk-serial::before {content: \"\";position: absolute;border-left: 1px solid gray;box-sizing: border-box;top: 0;bottom: 0;left: 50%;z-index: 0;}#sk-container-id-1 div.sk-serial {display: flex;flex-direction: column;align-items: center;background-color: white;padding-right: 0.2em;padding-left: 0.2em;position: relative;}#sk-container-id-1 div.sk-item {position: relative;z-index: 1;}#sk-container-id-1 div.sk-parallel {display: flex;align-items: stretch;justify-content: center;background-color: white;position: relative;}#sk-container-id-1 div.sk-item::before, #sk-container-id-1 div.sk-parallel-item::before {content: \"\";position: absolute;border-left: 1px solid gray;box-sizing: border-box;top: 0;bottom: 0;left: 50%;z-index: -1;}#sk-container-id-1 div.sk-parallel-item {display: flex;flex-direction: column;z-index: 1;position: relative;background-color: white;}#sk-container-id-1 div.sk-parallel-item:first-child::after {align-self: flex-end;width: 50%;}#sk-container-id-1 div.sk-parallel-item:last-child::after {align-self: flex-start;width: 50%;}#sk-container-id-1 div.sk-parallel-item:only-child::after {width: 0;}#sk-container-id-1 div.sk-dashed-wrapped {border: 1px dashed gray;margin: 0 0.4em 0.5em 0.4em;box-sizing: border-box;padding-bottom: 0.4em;background-color: white;}#sk-container-id-1 div.sk-label label {font-family: monospace;font-weight: bold;display: inline-block;line-height: 1.2em;}#sk-container-id-1 div.sk-label-container {text-align: center;}#sk-container-id-1 div.sk-container {/* jupyter's `normalize.less` sets `[hidden] { display: none; }` but bootstrap.min.css set `[hidden] { display: none !important; }` so we also need the `!important` here to be able to override the default hidden behavior on the sphinx rendered scikit-learn.org. See: https://github.com/scikit-learn/scikit-learn/issues/21755 */display: inline-block !important;position: relative;}#sk-container-id-1 div.sk-text-repr-fallback {display: none;}</style><div id=\"sk-container-id-1\" class=\"sk-top-container\"><div class=\"sk-text-repr-fallback\"><pre>KNeighborsClassifier(metric=&#x27;euclidean&#x27;, n_neighbors=9)</pre><b>In a Jupyter environment, please rerun this cell to show the HTML representation or trust the notebook. <br />On GitHub, the HTML representation is unable to render, please try loading this page with nbviewer.org.</b></div><div class=\"sk-container\" hidden><div class=\"sk-item\"><div class=\"sk-estimator sk-toggleable\"><input class=\"sk-toggleable__control sk-hidden--visually\" id=\"sk-estimator-id-1\" type=\"checkbox\" checked><label for=\"sk-estimator-id-1\" class=\"sk-toggleable__label sk-toggleable__label-arrow\">KNeighborsClassifier</label><div class=\"sk-toggleable__content\"><pre>KNeighborsClassifier(metric=&#x27;euclidean&#x27;, n_neighbors=9)</pre></div></div></div></div></div>"
            ]
          },
          "metadata": {},
          "execution_count": 13
        }
      ],
      "source": [
        "knn_model_manhattan.fit(X_train.reshape(X_train.shape[0], -1), y_train)\n",
        "knn_model_euclidean.fit(X_train.reshape(X_train.shape[0], -1), y_train)"
      ]
    },
    {
      "cell_type": "markdown",
      "metadata": {
        "id": "3pcG5u5ED6ZO"
      },
      "source": [
        "#Making predictions on the test images"
      ]
    },
    {
      "cell_type": "code",
      "execution_count": 14,
      "metadata": {
        "id": "I0F5gxwXEAW4"
      },
      "outputs": [],
      "source": [
        "y_pred_manhattan = knn_model_manhattan.predict(X_test.reshape(X_test.shape[0], -1))\n",
        "y_pred_euclidean = knn_model_euclidean.predict(X_test.reshape(X_test.shape[0], -1))"
      ]
    },
    {
      "cell_type": "markdown",
      "metadata": {
        "id": "leKC16xpGXKU"
      },
      "source": [
        "#Top 5 class predictions for Manhattan Distance Matrix"
      ]
    },
    {
      "cell_type": "code",
      "execution_count": 15,
      "metadata": {
        "id": "2Gc4tlAzGe8I"
      },
      "outputs": [],
      "source": [
        "top_5_indices_manhattan = knn_model_manhattan.kneighbors(X_test.reshape(X_test.shape[0], -1), n_neighbors=5, return_distance=False)"
      ]
    },
    {
      "cell_type": "markdown",
      "metadata": {
        "id": "LI7dJ3BWKsX-"
      },
      "source": [
        "#Top 5 class predictions for Euclidean Distance Matrix"
      ]
    },
    {
      "cell_type": "code",
      "execution_count": 16,
      "metadata": {
        "id": "m0LRH7cXLPoM"
      },
      "outputs": [],
      "source": [
        "top_5_indices_euclidean = knn_model_euclidean.kneighbors(X_test.reshape(X_test.shape[0], -1), n_neighbors=5, return_distance=False)"
      ]
    },
    {
      "cell_type": "markdown",
      "metadata": {
        "id": "_TUtkIfHL0wJ"
      },
      "source": [
        "#Top 5 predcitions for Manhattan Distance Matrix"
      ]
    },
    {
      "cell_type": "code",
      "source": [
        "for i in range(5):\n",
        "    #image_data = X_test[i]\n",
        "    #plt.imshow(image_data, cmap='gray')\n",
        "    true_label = y_test[i+10000]\n",
        "    top_5_labels_manhattan = [y_train[index] for index in top_5_indices_manhattan[i]]\n",
        "\n",
        "    print(f\"Test Image {i + 1}:\")\n",
        "    print(f\"True Label: {true_label}\")\n",
        "    print(f\"Top 5 Predicted Labels: {top_5_labels_manhattan}\\n\")\n"
      ],
      "metadata": {
        "colab": {
          "base_uri": "https://localhost:8080/"
        },
        "id": "ktIijSipZjC_",
        "outputId": "c3d0ccf4-4100-492a-823d-68bab019961f"
      },
      "execution_count": 51,
      "outputs": [
        {
          "output_type": "stream",
          "name": "stdout",
          "text": [
            "Test Image 1:\n",
            "True Label: 0\n",
            "Top 5 Predicted Labels: ['9', '7', '8', '8', '4']\n",
            "\n",
            "Test Image 2:\n",
            "True Label: 6\n",
            "Top 5 Predicted Labels: ['3', '3', '6', '6', '6']\n",
            "\n",
            "Test Image 3:\n",
            "True Label: 0\n",
            "Top 5 Predicted Labels: ['8', '0', '0', '0', '8']\n",
            "\n",
            "Test Image 4:\n",
            "True Label: 2\n",
            "Top 5 Predicted Labels: ['3', '4', '5', '4', '7']\n",
            "\n",
            "Test Image 5:\n",
            "True Label: 7\n",
            "Top 5 Predicted Labels: ['7', '7', '7', '4', '7']\n",
            "\n"
          ]
        }
      ]
    },
    {
      "cell_type": "markdown",
      "source": [
        "#Top 5 predcitions for Euclidean Distance Matrix"
      ],
      "metadata": {
        "id": "e7n8y1D6gMpN"
      }
    },
    {
      "cell_type": "code",
      "source": [
        "for i in range(5):\n",
        "    #image_data = X_test[i]\n",
        "    #plt.imshow(image_data, cmap='gray')\n",
        "    true_label = y_test[i+10000]\n",
        "    top_5_labels_manhattan = [y_train[index] for index in top_5_indices_euclidean[i]]\n",
        "\n",
        "    print(f\"Test Image {i + 1}:\")\n",
        "    print(f\"True Label: {true_label}\")\n",
        "    print(f\"Top 5 Predicted Labels: {top_5_labels_manhattan}\\n\")"
      ],
      "metadata": {
        "colab": {
          "base_uri": "https://localhost:8080/"
        },
        "id": "1d2TXhMHgQDj",
        "outputId": "c2506ad5-73e7-49ec-c7de-d926dbc63a4c"
      },
      "execution_count": 52,
      "outputs": [
        {
          "output_type": "stream",
          "name": "stdout",
          "text": [
            "Test Image 1:\n",
            "True Label: 0\n",
            "Top 5 Predicted Labels: ['9', '8', '8', '4', '4']\n",
            "\n",
            "Test Image 2:\n",
            "True Label: 6\n",
            "Top 5 Predicted Labels: ['4', '6', '4', '4', '6']\n",
            "\n",
            "Test Image 3:\n",
            "True Label: 0\n",
            "Top 5 Predicted Labels: ['8', '0', '8', '0', '0']\n",
            "\n",
            "Test Image 4:\n",
            "True Label: 2\n",
            "Top 5 Predicted Labels: ['4', '3', '5', '6', '7']\n",
            "\n",
            "Test Image 5:\n",
            "True Label: 7\n",
            "Top 5 Predicted Labels: ['7', '2', '4', '7', '7']\n",
            "\n"
          ]
        }
      ]
    },
    {
      "cell_type": "markdown",
      "source": [
        "#Discussion\n",
        "Here, it can be seen that the accuracy of the Manhattan distance is 31% and the accuracy of Euclidean distance matric is about 29%. Here the Manhattan is more accurate because it divides the regions more smoothly and maps the decision surface more organically where the Euclidean does the opposite. So based upon this results, there are two thigs which can be altered. They are how to increase the result and what are the limitations whicih can alter the result.\n",
        "\n",
        "1. *Improving the result:*\n",
        "\n",
        "a. The first and foremost thing to do to imrove the reuslt is training more images. In this experiment, because of the resource, the number of training images was 10000 and 2000 was testing images. Traning more images can result more accurate model.\n",
        "\n",
        "b. Taking a large variant of K (Hyperparameter) can result a more accurate result. The range was 1 to 10. So the best one was 10 for Manhattan and 9 for Euclidean. But the model was test for a larger variant of K, the result was different. As far as I remembered, it was about 21 for Manhattan and 20 or 19 for Euclidean. As the best parameters changes, the accuracy also increased.\n",
        "\n",
        "c. Number of folds is a cruicial point of increasing the accuracy level. It can detect a more optimized value of K whcih dramatically increases the possibility of getting a more accurate value. In this implementation, the number of folds was 5.\n",
        "\n",
        "d. Preprocessing can also increase the result. Caring about the unstable data and making it stable can reduce the error factors like outliers.\n",
        "\n",
        "2. *Limitations*\n",
        "\n",
        "a. The fore and foremost limitation is resrouce and the quality of the dataset. Making these two things better can cause a good training segment.\n",
        "\n",
        "b. Optimized value of K can be a huge factor. By taking small value, there will be chance that the distace matrices cannot grasp all of the regional points. Also, taking a larger value for K can cause the point to be placed in a outlier catagory. So taking a bad value for K can be a limitation.\n",
        "\n",
        "There are more ways to alter the data but these are the major causes."
      ],
      "metadata": {
        "id": "nZ1beuPIowAV"
      }
    }
  ],
  "metadata": {
    "accelerator": "GPU",
    "colab": {
      "provenance": []
    },
    "kernelspec": {
      "display_name": "Python 3",
      "name": "python3"
    },
    "language_info": {
      "name": "python"
    }
  },
  "nbformat": 4,
  "nbformat_minor": 0
}